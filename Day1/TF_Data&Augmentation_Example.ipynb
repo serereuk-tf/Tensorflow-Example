{
  "nbformat": 4,
  "nbformat_minor": 0,
  "metadata": {
    "colab": {
      "name": "TF Data&Augmentation Example.ipynb",
      "provenance": [],
      "collapsed_sections": [],
      "authorship_tag": "ABX9TyOzjStQ6zDDty8TzMUt69oe",
      "include_colab_link": true
    },
    "kernelspec": {
      "name": "python3",
      "display_name": "Python 3"
    }
  },
  "cells": [
    {
      "cell_type": "markdown",
      "metadata": {
        "id": "view-in-github",
        "colab_type": "text"
      },
      "source": [
        "<a href=\"https://colab.research.google.com/github/serereuk-tf/Tensorflow-Example/blob/main/Day1/TF_Data%26Augmentation_Example.ipynb\" target=\"_parent\"><img src=\"https://colab.research.google.com/assets/colab-badge.svg\" alt=\"Open In Colab\"/></a>"
      ]
    },
    {
      "cell_type": "markdown",
      "metadata": {
        "id": "KyOa0K3xuyu8"
      },
      "source": [
        "# 이전에 사용했던 예제를 다시 올려두고 시작합시다"
      ]
    },
    {
      "cell_type": "code",
      "metadata": {
        "id": "ahczR9OCuHNg"
      },
      "source": [
        "#unzip the Files\n",
        "!unzip -qq /content/train_tfrecord.zip"
      ],
      "execution_count": 1,
      "outputs": []
    },
    {
      "cell_type": "code",
      "metadata": {
        "id": "x0Womevtsvx4"
      },
      "source": [
        "import glob\n",
        "import numpy as np\n",
        "from PIL import Image\n",
        "import tensorflow as tf\n",
        "\n",
        "# Tensorflow에서 알아서 최적화를 해주는 좋은 기능 #\n",
        "AUTOTUNE = tf.data.experimental.AUTOTUNE"
      ],
      "execution_count": 10,
      "outputs": []
    },
    {
      "cell_type": "code",
      "metadata": {
        "id": "x2cWToW1zGNm"
      },
      "source": [
        "def _parse_function(serialized_item):\n",
        "    \"\"\"\n",
        "    TF Records에 있는 내용물들을 압축해제 하는 방법\n",
        "    이미지가 String으로 나오기 때문에 추가적으로 더 작업을 해줘야한다.\n",
        "    tf.io.decode_png를 통해서 Stinrg -> Image Array\n",
        "    Output:\n",
        "        * Image : Tensor\n",
        "        * Label : Tensor\n",
        "    \"\"\"\n",
        "    parsed_ = tf.io.parse_example(\n",
        "        serialized=serialized_item,\n",
        "        features={\n",
        "            \"image\": tf.io.FixedLenFeature([], dtype=tf.string),\n",
        "            \"label\": tf.io.FixedLenFeature([], dtype=tf.int64)\n",
        "        }\n",
        "    )\n",
        "    image = parsed_['image']\n",
        "    image = tf.io.decode_png(image, channels=3)\n",
        "    label = parsed_['label']\n",
        "    return image, label"
      ],
      "execution_count": 13,
      "outputs": []
    },
    {
      "cell_type": "markdown",
      "metadata": {
        "id": "YrCOLIg4cAxJ"
      },
      "source": [
        "# Image Augmentation을 적용하는 방법은 크게 2 가지\n",
        "\n",
        "1. tf dataset에서 tf.image를 사용하여 변경하는 방법\n",
        "2. tf.keras.layers를 활용하는 방법"
      ]
    },
    {
      "cell_type": "code",
      "metadata": {
        "id": "PApB9I6Vb_3U"
      },
      "source": [
        "# 1. Dataset을 활용한 방법\n",
        "\n",
        "def Augmentation(image):\n",
        "    \"\"\"\n",
        "    랜덤 Flip_LR를 적용한 모습 \n",
        "    Output:\n",
        "        * Image : Flipped Image\n",
        "    \"\"\"\n",
        "    image = tf.image.random_flip_left_right(image)\n",
        "    return image\n",
        "\n",
        "# 2. tf.keras.layer를 활용하는 방법\n",
        "Augmentation2 = tf.keras.Sequential(\n",
        "    [tf.keras.layers.experimental.preprocessing.RandomFlip('horizontal')])\n"
      ],
      "execution_count": 14,
      "outputs": []
    },
    {
      "cell_type": "code",
      "metadata": {
        "id": "M5ciPL79zLRv"
      },
      "source": [
        "# TF Record 읽기\n",
        "train_dataset = tf.data.TFRecordDataset(\n",
        "    glob.glob('tfrecord_cifar100/train/tfr_*'))\n",
        "# Parsing\n",
        "train_dataset = train_dataset.map(_parse_function, num_parallel_calls=AUTOTUNE)\n",
        "train_dataset = train_dataset.map(Augmentation, num_parallel_calls=AUTOTUNE)"
      ],
      "execution_count": 12,
      "outputs": []
    },
    {
      "cell_type": "code",
      "metadata": {
        "id": "mOAj66pzzgqb"
      },
      "source": [
        ""
      ],
      "execution_count": null,
      "outputs": []
    }
  ]
}