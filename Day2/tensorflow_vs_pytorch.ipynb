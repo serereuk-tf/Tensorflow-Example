{
  "nbformat": 4,
  "nbformat_minor": 0,
  "metadata": {
    "colab": {
      "name": "tensorflow vs. pytorch.ipynb",
      "provenance": [],
      "collapsed_sections": [],
      "authorship_tag": "ABX9TyMTDVu2rdu2U+frNLQAbyhA",
      "include_colab_link": true
    },
    "kernelspec": {
      "name": "python3",
      "display_name": "Python 3"
    }
  },
  "cells": [
    {
      "cell_type": "markdown",
      "metadata": {
        "id": "view-in-github",
        "colab_type": "text"
      },
      "source": [
        "<a href=\"https://colab.research.google.com/github/serereuk-tf/Tensorflow-Example/blob/main/Day2/tensorflow_vs_pytorch.ipynb\" target=\"_parent\"><img src=\"https://colab.research.google.com/assets/colab-badge.svg\" alt=\"Open In Colab\"/></a>"
      ]
    },
    {
      "cell_type": "markdown",
      "metadata": {
        "id": "l5flNJCiz-UF"
      },
      "source": [
        "# Tensorflow와 Pytorch간 모듈의 차이점 분석\n",
        "\n",
        "## 1. Conv 모듈\n"
      ]
    },
    {
      "cell_type": "code",
      "metadata": {
        "id": "i90dPLWCzkTt"
      },
      "source": [
        "import numpy as np\n",
        "\n",
        "# Framework\n",
        "import torch \n",
        "import tensorflow as tf"
      ],
      "execution_count": null,
      "outputs": []
    },
    {
      "cell_type": "code",
      "metadata": {
        "id": "wrW7tf2PNPfp"
      },
      "source": [
        "np.random.seed(0)\n",
        "\n",
        "ex_for_TF = np.random.rand(1, 10, 10, 3)"
      ],
      "execution_count": null,
      "outputs": []
    },
    {
      "cell_type": "code",
      "metadata": {
        "id": "F8c-h6ghNwuL"
      },
      "source": [
        "conv_layer = tf.keras.layers.Conv2D(1, 2, padding='same')"
      ],
      "execution_count": null,
      "outputs": []
    },
    {
      "cell_type": "code",
      "metadata": {
        "colab": {
          "base_uri": "https://localhost:8080/"
        },
        "id": "Gxe-YsUAODkk",
        "outputId": "85133e61-ab77-4487-986e-ec21d6954ca5"
      },
      "source": [
        "conv_layer(ex_for_TF).shape"
      ],
      "execution_count": null,
      "outputs": [
        {
          "output_type": "execute_result",
          "data": {
            "text/plain": [
              "TensorShape([1, 10, 10, 1])"
            ]
          },
          "metadata": {
            "tags": []
          },
          "execution_count": 11
        }
      ]
    },
    {
      "cell_type": "code",
      "metadata": {
        "id": "2oC_8NSFOJM2"
      },
      "source": [
        ""
      ],
      "execution_count": null,
      "outputs": []
    }
  ]
}