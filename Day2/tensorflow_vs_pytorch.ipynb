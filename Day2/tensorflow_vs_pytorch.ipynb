{
  "nbformat": 4,
  "nbformat_minor": 0,
  "metadata": {
    "colab": {
      "name": "tensorflow vs. pytorch.ipynb",
      "provenance": [],
      "authorship_tag": "ABX9TyMCv9VgYt5rmFTt9lfS9myV",
      "include_colab_link": true
    },
    "kernelspec": {
      "name": "python3",
      "display_name": "Python 3"
    }
  },
  "cells": [
    {
      "cell_type": "markdown",
      "metadata": {
        "id": "view-in-github",
        "colab_type": "text"
      },
      "source": [
        "<a href=\"https://colab.research.google.com/github/serereuk-tf/Tensorflow-Example/blob/main/Day2/tensorflow_vs_pytorch.ipynb\" target=\"_parent\"><img src=\"https://colab.research.google.com/assets/colab-badge.svg\" alt=\"Open In Colab\"/></a>"
      ]
    },
    {
      "cell_type": "markdown",
      "metadata": {
        "id": "l5flNJCiz-UF"
      },
      "source": [
        "# Tensorflow와 Pytorch간 모듈의 차이점 분석"
      ]
    },
    {
      "cell_type": "code",
      "metadata": {
        "id": "i90dPLWCzkTt"
      },
      "source": [
        ""
      ],
      "execution_count": null,
      "outputs": []
    }
  ]
}